{
  "nbformat": 4,
  "nbformat_minor": 0,
  "metadata": {
    "colab": {
      "provenance": []
    },
    "kernelspec": {
      "name": "python3",
      "display_name": "Python 3"
    },
    "language_info": {
      "name": "python"
    }
  },
  "cells": [
    {
      "cell_type": "code",
      "execution_count": 2,
      "metadata": {
        "colab": {
          "base_uri": "https://localhost:8080/"
        },
        "id": "wJN3etrF2Su1",
        "outputId": "e5c66a60-90ca-4f94-a9ad-4c64d5216e9d"
      },
      "outputs": [
        {
          "output_type": "stream",
          "name": "stdout",
          "text": [
            "hello world\n"
          ]
        }
      ],
      "source": [
        "# This is the file for the 2025 OSU Spring Analytics Challenge\n",
        "print(\"hello world\")"
      ]
    },
    {
      "cell_type": "code",
      "source": [
        "# prompt: load in a csv\n",
        "\n",
        "import pandas as pd\n",
        "df = pd.read_excel(\"OSUHackathon2025_TeamGameData.xlsx\")\n",
        "print(df.head()) # Display the first few rows of the dataframe"
      ],
      "metadata": {
        "colab": {
          "base_uri": "https://localhost:8080/"
        },
        "id": "jf1ZN95m9kWA",
        "outputId": "ee6f50ea-f14a-43ed-ac5f-d9956c704ad8"
      },
      "execution_count": 7,
      "outputs": [
        {
          "output_type": "stream",
          "name": "stdout",
          "text": [
            "   Season  GameId       Date               Team Conference           OppTeam  \\\n",
            "0    2018    2871 2018-09-01  Abilene Christian  Southland            Baylor   \n",
            "1    2018    2831 2018-09-01          Air Force         MW       Stony Brook   \n",
            "2    2018    2897 2018-09-08          Air Force         MW  Florida Atlantic   \n",
            "3    2018    3078 2018-09-22          Air Force         MW        Utah State   \n",
            "4    2018    3140 2018-09-29          Air Force         MW            Nevada   \n",
            "\n",
            "  OppConference  Score  OppScore  WasCFPTeam  ...  Sum_PassRushPAA  \\\n",
            "0         BIG12     27        55           0  ...        -2.819792   \n",
            "1           CAA     38         0           0  ...        -4.214542   \n",
            "2         C-USA     27        33           0  ...        -6.354957   \n",
            "3            MW     32        42           0  ...        -6.325032   \n",
            "4            MW     25        28           0  ...        -0.128212   \n",
            "\n",
            "   Plays_RunDefPoints  Sum_RunDefPoints  Sum_RunDefPAA  Max_WP  Min_WP  \\\n",
            "0                  35         11.675622      -3.945712   0.565   0.000   \n",
            "1                  27          7.311287      -9.945313   1.000   0.472   \n",
            "2                  36         28.059063      13.923643   0.473   0.000   \n",
            "3                  20          3.935479      -5.368693   0.719   0.000   \n",
            "4                  32         12.386761      -1.188617   0.518   0.030   \n",
            "\n",
            "   Median_WP  WP_FavoredPct       ADoT  AttemptedAirYards  \n",
            "0      0.055       0.022988   6.210526                236  \n",
            "1      0.979       0.987951  14.875000                119  \n",
            "2      0.235       0.000000  12.916666                155  \n",
            "3      0.289       0.191387  12.368421                235  \n",
            "4      0.212       0.011235  13.888888                250  \n",
            "\n",
            "[5 rows x 54 columns]\n"
          ]
        }
      ]
    }
  ]
}